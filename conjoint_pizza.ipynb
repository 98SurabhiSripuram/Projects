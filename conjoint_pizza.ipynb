{
 "cells": [
  {
   "cell_type": "markdown",
   "metadata": {},
   "source": [
    "# Conjoint Analysis to understand the customer preferences\n"
   ]
  },
  {
   "cell_type": "code",
   "execution_count": 1,
   "metadata": {},
   "outputs": [],
   "source": [
    "import pandas as pd\n",
    "data= pd.read_csv('conjoint_pizza.csv')"
   ]
  },
  {
   "cell_type": "code",
   "execution_count": 2,
   "metadata": {},
   "outputs": [
    {
     "data": {
      "text/plain": [
       "Index(['Rating', 'Type', 'Price', 'Container', 'Brand', 'Healthiness'], dtype='object')"
      ]
     },
     "execution_count": 2,
     "metadata": {},
     "output_type": "execute_result"
    }
   ],
   "source": [
    "data.columns"
   ]
  },
  {
   "cell_type": "code",
   "execution_count": 3,
   "metadata": {},
   "outputs": [
    {
     "data": {
      "text/plain": [
       "(18, 6)"
      ]
     },
     "execution_count": 3,
     "metadata": {},
     "output_type": "execute_result"
    }
   ],
   "source": [
    "data.shape"
   ]
  },
  {
   "cell_type": "code",
   "execution_count": 4,
   "metadata": {},
   "outputs": [
    {
     "name": "stdout",
     "output_type": "stream",
     "text": [
      "3\n"
     ]
    },
    {
     "data": {
      "text/plain": [
       "array(['Paneer', 'Onion', 'Cheese'], dtype=object)"
      ]
     },
     "execution_count": 4,
     "metadata": {},
     "output_type": "execute_result"
    }
   ],
   "source": [
    "print(data['Type'].nunique())\n",
    "data['Type'].unique()"
   ]
  },
  {
   "cell_type": "code",
   "execution_count": 5,
   "metadata": {},
   "outputs": [
    {
     "name": "stdout",
     "output_type": "stream",
     "text": [
      "3\n"
     ]
    },
    {
     "data": {
      "text/plain": [
       "array(['Rs.150', 'Rs.190', 'Rs.170'], dtype=object)"
      ]
     },
     "execution_count": 5,
     "metadata": {},
     "output_type": "execute_result"
    }
   ],
   "source": [
    "print(data['Price'].nunique())\n",
    "data['Price'].unique()"
   ]
  },
  {
   "cell_type": "code",
   "execution_count": 6,
   "metadata": {},
   "outputs": [
    {
     "name": "stdout",
     "output_type": "stream",
     "text": [
      "4\n"
     ]
    },
    {
     "data": {
      "text/plain": [
       "array(['Cone', 'Box', 'Burger', 'Buger'], dtype=object)"
      ]
     },
     "execution_count": 6,
     "metadata": {},
     "output_type": "execute_result"
    }
   ],
   "source": [
    "print(data['Container'].nunique())\n",
    "data['Container'].unique()"
   ]
  },
  {
   "cell_type": "code",
   "execution_count": 7,
   "metadata": {},
   "outputs": [],
   "source": [
    "Y = data['Rating']\n",
    "X = data.drop(columns='Rating')"
   ]
  },
  {
   "cell_type": "code",
   "execution_count": 8,
   "metadata": {},
   "outputs": [
    {
     "data": {
      "text/plain": [
       "(18, 5)"
      ]
     },
     "execution_count": 8,
     "metadata": {},
     "output_type": "execute_result"
    }
   ],
   "source": [
    "X.shape"
   ]
  },
  {
   "cell_type": "code",
   "execution_count": 9,
   "metadata": {},
   "outputs": [],
   "source": [
    "import statsmodels.api as sm"
   ]
  },
  {
   "cell_type": "code",
   "execution_count": 10,
   "metadata": {},
   "outputs": [
    {
     "name": "stdout",
     "output_type": "stream",
     "text": [
      "    Type_Cheese  Type_Onion  Type_Paneer  Price_Rs.150  Price_Rs.170  \\\n",
      "0             0           0            1             1             0   \n",
      "1             0           1            0             0             0   \n",
      "2             0           1            0             1             0   \n",
      "3             1           0            0             0             0   \n",
      "4             0           1            0             0             1   \n",
      "5             0           0            1             1             0   \n",
      "6             1           0            0             1             0   \n",
      "7             0           1            0             0             1   \n",
      "8             1           0            0             0             1   \n",
      "9             0           0            1             0             0   \n",
      "10            0           0            1             0             1   \n",
      "11            1           0            0             1             0   \n",
      "12            0           1            0             1             0   \n",
      "13            0           0            1             0             0   \n",
      "14            0           1            0             0             0   \n",
      "15            0           0            1             0             1   \n",
      "16            1           0            0             0             1   \n",
      "17            1           0            0             0             0   \n",
      "\n",
      "    Price_Rs.190  Container_Box  Container_Buger  Container_Burger  \\\n",
      "0              0              0                0                 0   \n",
      "1              1              0                0                 0   \n",
      "2              0              1                0                 0   \n",
      "3              1              0                0                 0   \n",
      "4              0              0                0                 1   \n",
      "5              0              0                0                 1   \n",
      "6              0              1                0                 0   \n",
      "7              0              1                0                 0   \n",
      "8              0              0                0                 0   \n",
      "9              1              1                0                 0   \n",
      "10             0              1                0                 0   \n",
      "11             0              0                0                 1   \n",
      "12             0              0                0                 0   \n",
      "13             1              0                0                 1   \n",
      "14             1              1                0                 0   \n",
      "15             0              1                0                 0   \n",
      "16             0              1                0                 0   \n",
      "17             1              0                1                 0   \n",
      "\n",
      "    Container_Cone  Brand_Brand_A  Brand_Brand_B  Brand_Brand_C  \\\n",
      "0                1              1              0              0   \n",
      "1                1              0              1              0   \n",
      "2                0              0              0              1   \n",
      "3                1              1              0              0   \n",
      "4                0              0              1              0   \n",
      "5                0              0              1              0   \n",
      "6                0              0              1              0   \n",
      "7                0              1              0              0   \n",
      "8                1              0              0              1   \n",
      "9                0              0              0              1   \n",
      "10               0              0              1              0   \n",
      "11               0              0              0              1   \n",
      "12               1              1              0              0   \n",
      "13               0              1              0              0   \n",
      "14               0              0              0              1   \n",
      "15               0              0              0              1   \n",
      "16               0              1              0              0   \n",
      "17               0              0              1              0   \n",
      "\n",
      "    Healthiness_ExtraFat  Healthiness_LessFat  Healthiness_Normal  \n",
      "0                      0                    1                   0  \n",
      "1                      1                    0                   0  \n",
      "2                      1                    0                   0  \n",
      "3                      0                    1                   0  \n",
      "4                      0                    1                   0  \n",
      "5                      1                    0                   0  \n",
      "6                      0                    0                   1  \n",
      "7                      0                    0                   1  \n",
      "8                      1                    0                   0  \n",
      "9                      0                    0                   1  \n",
      "10                     0                    1                   0  \n",
      "11                     0                    1                   0  \n",
      "12                     0                    0                   1  \n",
      "13                     1                    0                   0  \n",
      "14                     0                    1                   0  \n",
      "15                     0                    0                   1  \n",
      "16                     1                    0                   0  \n",
      "17                     0                    0                   1  \n"
     ]
    }
   ],
   "source": [
    "Xnew=pd.get_dummies(X)\n",
    "print(Xnew)"
   ]
  },
  {
   "cell_type": "code",
   "execution_count": 11,
   "metadata": {},
   "outputs": [
    {
     "data": {
      "text/plain": [
       "Index(['Type_Cheese', 'Type_Onion', 'Type_Paneer', 'Price_Rs.150',\n",
       "       'Price_Rs.170', 'Price_Rs.190', 'Container_Box', 'Container_Buger',\n",
       "       'Container_Burger', 'Container_Cone', 'Brand_Brand_A', 'Brand_Brand_B',\n",
       "       'Brand_Brand_C', 'Healthiness_ExtraFat', 'Healthiness_LessFat',\n",
       "       'Healthiness_Normal'],\n",
       "      dtype='object')"
      ]
     },
     "execution_count": 11,
     "metadata": {},
     "output_type": "execute_result"
    }
   ],
   "source": [
    "Xnew.columns"
   ]
  },
  {
   "cell_type": "code",
   "execution_count": 12,
   "metadata": {},
   "outputs": [],
   "source": [
    "colsnot=['Type_Cheese','Price_Rs.150','Container_Cone','Brand_Brand_A','Healthiness_LessFat']\n",
    "Xfinal=Xnew.drop(columns=colsnot,axis=1)"
   ]
  },
  {
   "cell_type": "code",
   "execution_count": 13,
   "metadata": {},
   "outputs": [
    {
     "data": {
      "text/plain": [
       "(18, 11)"
      ]
     },
     "execution_count": 13,
     "metadata": {},
     "output_type": "execute_result"
    }
   ],
   "source": [
    "Xfinal.shape"
   ]
  },
  {
   "cell_type": "code",
   "execution_count": 14,
   "metadata": {},
   "outputs": [],
   "source": [
    "model=sm.OLS(Y,Xfinal).fit()"
   ]
  },
  {
   "cell_type": "code",
   "execution_count": 15,
   "metadata": {},
   "outputs": [
    {
     "name": "stderr",
     "output_type": "stream",
     "text": [
      "C:\\Users\\manoj\\anaconda3\\lib\\site-packages\\scipy\\stats\\stats.py:1603: UserWarning: kurtosistest only valid for n>=20 ... continuing anyway, n=18\n",
      "  warnings.warn(\"kurtosistest only valid for n>=20 ... continuing \"\n"
     ]
    },
    {
     "data": {
      "text/html": [
       "<table class=\"simpletable\">\n",
       "<caption>OLS Regression Results</caption>\n",
       "<tr>\n",
       "  <th>Dep. Variable:</th>         <td>Rating</td>      <th>  R-squared (uncentered):</th>      <td>   0.984</td>\n",
       "</tr>\n",
       "<tr>\n",
       "  <th>Model:</th>                   <td>OLS</td>       <th>  Adj. R-squared (uncentered):</th> <td>   0.958</td>\n",
       "</tr>\n",
       "<tr>\n",
       "  <th>Method:</th>             <td>Least Squares</td>  <th>  F-statistic:       </th>          <td>   38.30</td>\n",
       "</tr>\n",
       "<tr>\n",
       "  <th>Date:</th>             <td>Mon, 03 May 2021</td> <th>  Prob (F-statistic):</th>          <td>3.49e-05</td>\n",
       "</tr>\n",
       "<tr>\n",
       "  <th>Time:</th>                 <td>12:12:35</td>     <th>  Log-Likelihood:    </th>          <td> -7.5988</td>\n",
       "</tr>\n",
       "<tr>\n",
       "  <th>No. Observations:</th>      <td>    18</td>      <th>  AIC:               </th>          <td>   37.20</td>\n",
       "</tr>\n",
       "<tr>\n",
       "  <th>Df Residuals:</th>          <td>     7</td>      <th>  BIC:               </th>          <td>   46.99</td>\n",
       "</tr>\n",
       "<tr>\n",
       "  <th>Df Model:</th>              <td>    11</td>      <th>                     </th>              <td> </td>   \n",
       "</tr>\n",
       "<tr>\n",
       "  <th>Covariance Type:</th>      <td>nonrobust</td>    <th>                     </th>              <td> </td>   \n",
       "</tr>\n",
       "</table>\n",
       "<table class=\"simpletable\">\n",
       "<tr>\n",
       "            <td></td>              <th>coef</th>     <th>std err</th>      <th>t</th>      <th>P>|t|</th>  <th>[0.025</th>    <th>0.975]</th>  \n",
       "</tr>\n",
       "<tr>\n",
       "  <th>Type_Onion</th>           <td>   -0.3856</td> <td>    0.347</td> <td>   -1.112</td> <td> 0.303</td> <td>   -1.205</td> <td>    0.434</td>\n",
       "</tr>\n",
       "<tr>\n",
       "  <th>Type_Paneer</th>          <td>    0.2493</td> <td>    0.364</td> <td>    0.685</td> <td> 0.515</td> <td>   -0.611</td> <td>    1.110</td>\n",
       "</tr>\n",
       "<tr>\n",
       "  <th>Price_Rs.170</th>         <td>    2.1573</td> <td>    0.335</td> <td>    6.431</td> <td> 0.000</td> <td>    1.364</td> <td>    2.950</td>\n",
       "</tr>\n",
       "<tr>\n",
       "  <th>Price_Rs.190</th>         <td>    2.1150</td> <td>    0.344</td> <td>    6.149</td> <td> 0.000</td> <td>    1.302</td> <td>    2.928</td>\n",
       "</tr>\n",
       "<tr>\n",
       "  <th>Container_Box</th>        <td>    1.5600</td> <td>    0.395</td> <td>    3.950</td> <td> 0.006</td> <td>    0.626</td> <td>    2.494</td>\n",
       "</tr>\n",
       "<tr>\n",
       "  <th>Container_Buger</th>      <td>    0.3733</td> <td>    0.877</td> <td>    0.425</td> <td> 0.683</td> <td>   -1.701</td> <td>    2.448</td>\n",
       "</tr>\n",
       "<tr>\n",
       "  <th>Container_Burger</th>     <td>    2.1904</td> <td>    0.412</td> <td>    5.319</td> <td> 0.001</td> <td>    1.217</td> <td>    3.164</td>\n",
       "</tr>\n",
       "<tr>\n",
       "  <th>Brand_Brand_B</th>        <td>   -1.9484</td> <td>    0.369</td> <td>   -5.280</td> <td> 0.001</td> <td>   -2.821</td> <td>   -1.076</td>\n",
       "</tr>\n",
       "<tr>\n",
       "  <th>Brand_Brand_C</th>        <td>   -0.8745</td> <td>    0.349</td> <td>   -2.504</td> <td> 0.041</td> <td>   -1.700</td> <td>   -0.049</td>\n",
       "</tr>\n",
       "<tr>\n",
       "  <th>Healthiness_ExtraFat</th> <td>    0.8122</td> <td>    0.315</td> <td>    2.576</td> <td> 0.037</td> <td>    0.067</td> <td>    1.558</td>\n",
       "</tr>\n",
       "<tr>\n",
       "  <th>Healthiness_Normal</th>   <td>    1.4601</td> <td>    0.377</td> <td>    3.876</td> <td> 0.006</td> <td>    0.569</td> <td>    2.351</td>\n",
       "</tr>\n",
       "</table>\n",
       "<table class=\"simpletable\">\n",
       "<tr>\n",
       "  <th>Omnibus:</th>       <td> 1.075</td> <th>  Durbin-Watson:     </th> <td>   1.529</td>\n",
       "</tr>\n",
       "<tr>\n",
       "  <th>Prob(Omnibus):</th> <td> 0.584</td> <th>  Jarque-Bera (JB):  </th> <td>   0.973</td>\n",
       "</tr>\n",
       "<tr>\n",
       "  <th>Skew:</th>          <td> 0.416</td> <th>  Prob(JB):          </th> <td>   0.615</td>\n",
       "</tr>\n",
       "<tr>\n",
       "  <th>Kurtosis:</th>      <td> 2.223</td> <th>  Cond. No.          </th> <td>    7.83</td>\n",
       "</tr>\n",
       "</table><br/><br/>Warnings:<br/>[1] Standard Errors assume that the covariance matrix of the errors is correctly specified."
      ],
      "text/plain": [
       "<class 'statsmodels.iolib.summary.Summary'>\n",
       "\"\"\"\n",
       "                                 OLS Regression Results                                \n",
       "=======================================================================================\n",
       "Dep. Variable:                 Rating   R-squared (uncentered):                   0.984\n",
       "Model:                            OLS   Adj. R-squared (uncentered):              0.958\n",
       "Method:                 Least Squares   F-statistic:                              38.30\n",
       "Date:                Mon, 03 May 2021   Prob (F-statistic):                    3.49e-05\n",
       "Time:                        12:12:35   Log-Likelihood:                         -7.5988\n",
       "No. Observations:                  18   AIC:                                      37.20\n",
       "Df Residuals:                       7   BIC:                                      46.99\n",
       "Df Model:                          11                                                  \n",
       "Covariance Type:            nonrobust                                                  \n",
       "========================================================================================\n",
       "                           coef    std err          t      P>|t|      [0.025      0.975]\n",
       "----------------------------------------------------------------------------------------\n",
       "Type_Onion              -0.3856      0.347     -1.112      0.303      -1.205       0.434\n",
       "Type_Paneer              0.2493      0.364      0.685      0.515      -0.611       1.110\n",
       "Price_Rs.170             2.1573      0.335      6.431      0.000       1.364       2.950\n",
       "Price_Rs.190             2.1150      0.344      6.149      0.000       1.302       2.928\n",
       "Container_Box            1.5600      0.395      3.950      0.006       0.626       2.494\n",
       "Container_Buger          0.3733      0.877      0.425      0.683      -1.701       2.448\n",
       "Container_Burger         2.1904      0.412      5.319      0.001       1.217       3.164\n",
       "Brand_Brand_B           -1.9484      0.369     -5.280      0.001      -2.821      -1.076\n",
       "Brand_Brand_C           -0.8745      0.349     -2.504      0.041      -1.700      -0.049\n",
       "Healthiness_ExtraFat     0.8122      0.315      2.576      0.037       0.067       1.558\n",
       "Healthiness_Normal       1.4601      0.377      3.876      0.006       0.569       2.351\n",
       "==============================================================================\n",
       "Omnibus:                        1.075   Durbin-Watson:                   1.529\n",
       "Prob(Omnibus):                  0.584   Jarque-Bera (JB):                0.973\n",
       "Skew:                           0.416   Prob(JB):                        0.615\n",
       "Kurtosis:                       2.223   Cond. No.                         7.83\n",
       "==============================================================================\n",
       "\n",
       "Warnings:\n",
       "[1] Standard Errors assume that the covariance matrix of the errors is correctly specified.\n",
       "\"\"\""
      ]
     },
     "execution_count": 15,
     "metadata": {},
     "output_type": "execute_result"
    }
   ],
   "source": [
    "model.summary()"
   ]
  },
  {
   "cell_type": "code",
   "execution_count": null,
   "metadata": {},
   "outputs": [],
   "source": []
  },
  {
   "cell_type": "code",
   "execution_count": null,
   "metadata": {},
   "outputs": [],
   "source": []
  }
 ],
 "metadata": {
  "kernelspec": {
   "display_name": "Python 3",
   "language": "python",
   "name": "python3"
  },
  "language_info": {
   "codemirror_mode": {
    "name": "ipython",
    "version": 3
   },
   "file_extension": ".py",
   "mimetype": "text/x-python",
   "name": "python",
   "nbconvert_exporter": "python",
   "pygments_lexer": "ipython3",
   "version": "3.8.3"
  }
 },
 "nbformat": 4,
 "nbformat_minor": 4
}
