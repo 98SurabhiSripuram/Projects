{
 "cells": [
  {
   "cell_type": "code",
   "execution_count": 1,
   "metadata": {},
   "outputs": [],
   "source": [
    "import pandas as pd\n",
    "data = pd.read_csv('cluster clothing.csv')"
   ]
  },
  {
   "cell_type": "code",
   "execution_count": 2,
   "metadata": {},
   "outputs": [
    {
     "name": "stdout",
     "output_type": "stream",
     "text": [
      "<class 'pandas.core.frame.DataFrame'>\n",
      "RangeIndex: 73 entries, 0 to 72\n",
      "Data columns (total 7 columns):\n",
      " #   Column       Non-Null Count  Dtype \n",
      "---  ------       --------------  ----- \n",
      " 0   Trendy       73 non-null     int64 \n",
      " 1   Styling      73 non-null     int64 \n",
      " 2   Reliability  73 non-null     int64 \n",
      " 3   Range        73 non-null     int64 \n",
      " 4   Performance  73 non-null     int64 \n",
      " 5   Comfort      73 non-null     int64 \n",
      " 6   Choice       73 non-null     object\n",
      "dtypes: int64(6), object(1)\n",
      "memory usage: 4.1+ KB\n"
     ]
    }
   ],
   "source": [
    "data.info()"
   ]
  },
  {
   "cell_type": "code",
   "execution_count": 4,
   "metadata": {},
   "outputs": [
    {
     "data": {
      "text/plain": [
       "Index(['Trendy', 'Styling', 'Reliability', 'Range', 'Performance', 'Comfort',\n",
       "       'Choice'],\n",
       "      dtype='object')"
      ]
     },
     "execution_count": 4,
     "metadata": {},
     "output_type": "execute_result"
    }
   ],
   "source": [
    "data.columns"
   ]
  },
  {
   "cell_type": "code",
   "execution_count": 5,
   "metadata": {},
   "outputs": [],
   "source": [
    "y = data['Choice']\n",
    "x = data.drop(columns='Choice')"
   ]
  },
  {
   "cell_type": "code",
   "execution_count": 6,
   "metadata": {},
   "outputs": [
    {
     "data": {
      "text/plain": [
       "(73, 6)"
      ]
     },
     "execution_count": 6,
     "metadata": {},
     "output_type": "execute_result"
    }
   ],
   "source": [
    "x.shape"
   ]
  },
  {
   "cell_type": "code",
   "execution_count": 7,
   "metadata": {},
   "outputs": [
    {
     "data": {
      "text/plain": [
       "(73, 7)"
      ]
     },
     "execution_count": 7,
     "metadata": {},
     "output_type": "execute_result"
    }
   ],
   "source": [
    "data.shape"
   ]
  },
  {
   "cell_type": "code",
   "execution_count": 8,
   "metadata": {},
   "outputs": [
    {
     "data": {
      "image/png": "[encoded data removed]",
      "text/plain": [
       "<Figure size 432x288 with 1 Axes>"
      ]
     },
     "metadata": {
      "needs_background": "light"
     },
     "output_type": "display_data"
    }
   ],
   "source": [
    "from sklearn.cluster import KMeans\n",
    "list1 = []\n",
    "for i in range(1,10):\n",
    "    Kmeans = KMeans(n_clusters=i)\n",
    "    Kmeans.fit(x)\n",
    "    list1.append(Kmeans.inertia_)\n",
    "    \n",
    "# creating the scree plot\n",
    "import matplotlib.pyplot as plt\n",
    "plt.plot(range(1,10),list1,marker='o')\n",
    "plt.title('Elbow method')\n",
    "plt.xlabel('Number of cluster')\n",
    "plt.ylabel('wcss')\n",
    "plt.show()"
   ]
  },
  {
   "cell_type": "code",
   "execution_count": 9,
   "metadata": {},
   "outputs": [
    {
     "name": "stdout",
     "output_type": "stream",
     "text": [
      "the predicted clusters are:\n",
      " [2 0 2 2 2 1 0 2 2 0 2 0 0 1 2 0 1 0 0 1 2 0 2 2 0 1 0 1 2 0 2 1 0 1 2 0 2\n",
      " 0 0 2 0 2 2 0 1 2 0 0 2 0 0 1 0 0 0 0 1 0 0 1 0 1 0 1 1 0 0 1 1 1 0 2 2]\n",
      "the centers are:\n",
      " [[15.12121212 13.57575758 20.60606061 13.         20.21212121 17.48484848]\n",
      " [22.66666667 22.         17.88888889 11.94444444 13.44444444 12.05555556]\n",
      " [ 8.         17.77272727 29.04545455  7.         23.13636364 15.04545455]]\n"
     ]
    }
   ],
   "source": [
    "kmeans_choice = KMeans(n_clusters=3,random_state=10)\n",
    "y_kmeans = kmeans_choice.fit_predict(x)\n",
    "print(\"the predicted clusters are:\\n\", y_kmeans)\n",
    "print(\"the centers are:\\n\", kmeans_choice.cluster_centers_)"
   ]
  },
  {
   "cell_type": "code",
   "execution_count": 10,
   "metadata": {},
   "outputs": [],
   "source": [
    "data['cluster'] = y_kmeans"
   ]
  },
  {
   "cell_type": "code",
   "execution_count": 12,
   "metadata": {},
   "outputs": [
    {
     "data": {
      "text/html": [
       "<div>\n",
       "<style scoped>\n",
       "    .dataframe tbody tr th:only-of-type {\n",
       "        vertical-align: middle;\n",
       "    }\n",
       "\n",
       "    .dataframe tbody tr th {\n",
       "        vertical-align: top;\n",
       "    }\n",
       "\n",
       "    .dataframe thead th {\n",
       "        text-align: right;\n",
       "    }\n",
       "</style>\n",
       "<table border=\"1\" class=\"dataframe\">\n",
       "  <thead>\n",
       "    <tr style=\"text-align: right;\">\n",
       "      <th></th>\n",
       "      <th>Trendy</th>\n",
       "      <th>Styling</th>\n",
       "      <th>Reliability</th>\n",
       "      <th>Range</th>\n",
       "      <th>Performance</th>\n",
       "      <th>Comfort</th>\n",
       "      <th>Choice</th>\n",
       "      <th>cluster</th>\n",
       "    </tr>\n",
       "  </thead>\n",
       "  <tbody>\n",
       "    <tr>\n",
       "      <th>0</th>\n",
       "      <td>10</td>\n",
       "      <td>20</td>\n",
       "      <td>35</td>\n",
       "      <td>5</td>\n",
       "      <td>20</td>\n",
       "      <td>10</td>\n",
       "      <td>Reebok</td>\n",
       "      <td>2</td>\n",
       "    </tr>\n",
       "    <tr>\n",
       "      <th>1</th>\n",
       "      <td>25</td>\n",
       "      <td>5</td>\n",
       "      <td>25</td>\n",
       "      <td>5</td>\n",
       "      <td>25</td>\n",
       "      <td>15</td>\n",
       "      <td>Nike</td>\n",
       "      <td>0</td>\n",
       "    </tr>\n",
       "    <tr>\n",
       "      <th>2</th>\n",
       "      <td>10</td>\n",
       "      <td>20</td>\n",
       "      <td>30</td>\n",
       "      <td>10</td>\n",
       "      <td>10</td>\n",
       "      <td>20</td>\n",
       "      <td>Reebok</td>\n",
       "      <td>2</td>\n",
       "    </tr>\n",
       "    <tr>\n",
       "      <th>3</th>\n",
       "      <td>10</td>\n",
       "      <td>15</td>\n",
       "      <td>30</td>\n",
       "      <td>10</td>\n",
       "      <td>20</td>\n",
       "      <td>15</td>\n",
       "      <td>Reebok</td>\n",
       "      <td>2</td>\n",
       "    </tr>\n",
       "    <tr>\n",
       "      <th>4</th>\n",
       "      <td>20</td>\n",
       "      <td>10</td>\n",
       "      <td>40</td>\n",
       "      <td>1</td>\n",
       "      <td>14</td>\n",
       "      <td>15</td>\n",
       "      <td>Reebok</td>\n",
       "      <td>2</td>\n",
       "    </tr>\n",
       "  </tbody>\n",
       "</table>\n",
       "</div>"
      ],
      "text/plain": [
       "   Trendy  Styling  Reliability  Range  Performance  Comfort  Choice  cluster\n",
       "0      10       20           35      5           20       10  Reebok        2\n",
       "1      25        5           25      5           25       15    Nike        0\n",
       "2      10       20           30     10           10       20  Reebok        2\n",
       "3      10       15           30     10           20       15  Reebok        2\n",
       "4      20       10           40      1           14       15  Reebok        2"
      ]
     },
     "execution_count": 12,
     "metadata": {},
     "output_type": "execute_result"
    }
   ],
   "source": [
    "data.head()"
   ]
  },
  {
   "cell_type": "code",
   "execution_count": 15,
   "metadata": {},
   "outputs": [],
   "source": [
    "import pandas as pd\n",
    "result = {'Original':y,'Predicted':y_kmeans}\n",
    "clusterdf = pd.DataFrame(result,columns=['Original','Predicted'])"
   ]
  },
  {
   "cell_type": "code",
   "execution_count": 16,
   "metadata": {},
   "outputs": [],
   "source": [
    "clusterdf['Predicted'].replace(to_replace=int(\"2\"),value=\"Reebok\",inplace=True)\n",
    "clusterdf['Predicted'].replace(to_replace=int(\"0\"),value=\"Nike\",inplace=True)\n",
    "clusterdf['Predicted'].replace(to_replace=int(\"1\"),value=\"Adidas\",inplace=True)"
   ]
  },
  {
   "cell_type": "code",
   "execution_count": 17,
   "metadata": {},
   "outputs": [
    {
     "data": {
      "text/html": [
       "<div>\n",
       "<style scoped>\n",
       "    .dataframe tbody tr th:only-of-type {\n",
       "        vertical-align: middle;\n",
       "    }\n",
       "\n",
       "    .dataframe tbody tr th {\n",
       "        vertical-align: top;\n",
       "    }\n",
       "\n",
       "    .dataframe thead th {\n",
       "        text-align: right;\n",
       "    }\n",
       "</style>\n",
       "<table border=\"1\" class=\"dataframe\">\n",
       "  <thead>\n",
       "    <tr style=\"text-align: right;\">\n",
       "      <th></th>\n",
       "      <th>Original</th>\n",
       "      <th>Predicted</th>\n",
       "    </tr>\n",
       "  </thead>\n",
       "  <tbody>\n",
       "    <tr>\n",
       "      <th>0</th>\n",
       "      <td>Reebok</td>\n",
       "      <td>Reebok</td>\n",
       "    </tr>\n",
       "    <tr>\n",
       "      <th>1</th>\n",
       "      <td>Nike</td>\n",
       "      <td>Nike</td>\n",
       "    </tr>\n",
       "    <tr>\n",
       "      <th>2</th>\n",
       "      <td>Reebok</td>\n",
       "      <td>Reebok</td>\n",
       "    </tr>\n",
       "    <tr>\n",
       "      <th>3</th>\n",
       "      <td>Reebok</td>\n",
       "      <td>Reebok</td>\n",
       "    </tr>\n",
       "    <tr>\n",
       "      <th>4</th>\n",
       "      <td>Reebok</td>\n",
       "      <td>Reebok</td>\n",
       "    </tr>\n",
       "  </tbody>\n",
       "</table>\n",
       "</div>"
      ],
      "text/plain": [
       "  Original Predicted\n",
       "0   Reebok    Reebok\n",
       "1     Nike      Nike\n",
       "2   Reebok    Reebok\n",
       "3   Reebok    Reebok\n",
       "4   Reebok    Reebok"
      ]
     },
     "execution_count": 17,
     "metadata": {},
     "output_type": "execute_result"
    }
   ],
   "source": [
    "clusterdf.head()"
   ]
  },
  {
   "cell_type": "code",
   "execution_count": 18,
   "metadata": {
    "scrolled": true
   },
   "outputs": [
    {
     "name": "stdout",
     "output_type": "stream",
     "text": [
      "[[15  5  1]\n",
      " [ 1 23  5]\n",
      " [ 2  5 16]]\n",
      "0.7397260273972602\n"
     ]
    }
   ],
   "source": [
    "from sklearn.metrics import confusion_matrix\n",
    "from sklearn.metrics import accuracy_score\n",
    "print(confusion_matrix(clusterdf['Original'],clusterdf['Predicted']))\n",
    "print(accuracy_score(clusterdf['Original'],clusterdf['Predicted']))"
   ]
  },
  {
   "cell_type": "code",
   "execution_count": 19,
   "metadata": {},
   "outputs": [],
   "source": [
    "from scipy import stats\n",
    "# creating three groups for reliability\n",
    "a1 = data[data['cluster'] == 0]['Reliability']\n",
    "a2 = data[data['cluster'] == 1]['Reliability']\n",
    "a3 = data[data['cluster'] == 2]['Reliability']"
   ]
  },
  {
   "cell_type": "code",
   "execution_count": 21,
   "metadata": {},
   "outputs": [
    {
     "name": "stdout",
     "output_type": "stream",
     "text": [
      "Result of ANOVA test:  F_onewayResult(statistic=23.21327961897393, pvalue=1.847605296149947e-08)\n",
      "result of Tukey test is:  Multiple Comparison of Means - Tukey HSD, FWER=0.50 \n",
      "====================================================\n",
      "group1 group2 meandiff p-adj   lower   upper  reject\n",
      "----------------------------------------------------\n",
      "     0      1  -2.7172 0.2269 -4.5643   -0.87   True\n",
      "     0      2   8.4394  0.001  6.7043 10.1745   True\n",
      "     1      2  11.1566  0.001  9.1531 13.1601   True\n",
      "----------------------------------------------------\n"
     ]
    }
   ],
   "source": [
    "# applying independent sample ttest\n",
    "# there is no sifnificant difference between different clusters with respect to calories\n",
    "print(\"Result of ANOVA test: \", stats.f_oneway(a1,a2,a3))\n",
    "\n",
    "from statsmodels.stats.multicomp import pairwise_tukeyhsd\n",
    "\n",
    "tukey = pairwise_tukeyhsd(endog=data['Reliability'],groups=data['cluster'],alpha=0.5)\n",
    "print(\"result of Tukey test is: \",tukey.summary())\n",
    "# this means that there is a singificant difference b/w all the groups"
   ]
  }
 ],
 "metadata": {
  "kernelspec": {
   "display_name": "Python 3",
   "language": "python",
   "name": "python3"
  },
  "language_info": {
   "codemirror_mode": {
    "name": "ipython",
    "version": 3
   },
   "file_extension": ".py",
   "mimetype": "text/x-python",
   "name": "python",
   "nbconvert_exporter": "python",
   "pygments_lexer": "ipython3",
   "version": "3.8.3"
  }
 },
 "nbformat": 4,
 "nbformat_minor": 4
}
